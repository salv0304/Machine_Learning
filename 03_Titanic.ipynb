{
  "nbformat": 4,
  "nbformat_minor": 0,
  "metadata": {
    "colab": {
      "provenance": [],
      "include_colab_link": true
    },
    "kernelspec": {
      "name": "python3",
      "display_name": "Python 3"
    },
    "language_info": {
      "name": "python"
    }
  },
  "cells": [
    {
      "cell_type": "markdown",
      "metadata": {
        "id": "view-in-github",
        "colab_type": "text"
      },
      "source": [
        "<a href=\"https://colab.research.google.com/github/salv0304/Machine_Learning/blob/main/03_Titanic.ipynb\" target=\"_parent\"><img src=\"https://colab.research.google.com/assets/colab-badge.svg\" alt=\"Open In Colab\"/></a>"
      ]
    },
    {
      "cell_type": "markdown",
      "source": [
        "# Would you survive Titanic?\n",
        "\n",
        "RMS Titanic was a British passenger ship that sank in the North\n",
        "Atlantic Ocean in the early morning hours of April 15, 1912, after\n",
        "striking an iceberg during her maiden voyage.  The majority of its\n",
        "passengers died in the accident.  As we will discover, not all of them\n",
        "had the same chance to survive.\n",
        "\n",
        "Data about 887 passengers have been collected and randomly divided\n",
        "into a training and a test set.  The training set includes 710 samples\n",
        "and is stored in the file `titanic-train.txt`, while the test set\n",
        "is composed of 177 cases and is stored in `titanic-test.txt`.\n",
        "Each row in the files represents a different passenger, and reports the\n",
        "following features:\n",
        "- the ticket class (1st, 2nd or 3rd);\n",
        "- sex ($0 \\to$ male, $1 \\to$ female);\n",
        "- age, in years;\n",
        "- number of siblings and spouses aboard;\n",
        "- number of parents and children aboard;\n",
        "- the passenger fare.\n",
        "\n",
        "The last column reports whether the passenger survived (1) or not (0).\n",
        "The files can be obtained by executing the following cell."
      ],
      "metadata": {
        "id": "pbXYV6QX4In0"
      }
    },
    {
      "cell_type": "code",
      "execution_count": null,
      "metadata": {
        "colab": {
          "base_uri": "https://localhost:8080/"
        },
        "id": "LgbFDHUn4HHE",
        "outputId": "1dab4327-da66-4dc3-b403-71fb75f68749"
      },
      "outputs": [
        {
          "output_type": "stream",
          "name": "stdout",
          "text": [
            "titanic-test.txt  titanic-train.txt\n"
          ]
        }
      ],
      "source": [
        "!wget -q -O titanic-train.txt https://pastebin.com/raw/LDhY3ZTN\n",
        "!wget -q -O titanic-test.txt https://pastebin.com/raw/zGsE0ZJ6\n",
        "!ls *.txt"
      ]
    },
    {
      "cell_type": "markdown",
      "source": [
        "Training data is then loaded and converted to tensors of features and class labels:"
      ],
      "metadata": {
        "id": "Mmsh-_Kg7DPY"
      }
    },
    {
      "cell_type": "code",
      "source": [
        "import torch\n",
        "import matplotlib.pyplot as plt\n",
        "\n",
        "\n",
        "f = open(\"titanic-train.txt\")\n",
        "data = [float(x) for x in f.read().split()]\n",
        "f.close()\n",
        "\n",
        "data = torch.tensor(data).view(-1, 7) # Arrange it as a matrix with n rows and 7 columns\n",
        "X = data[:, :6]\n",
        "Y = data[:, 6].long()\n",
        "\n",
        "#6 features, 1 output\n",
        "print(X.shape, X.dtype)\n",
        "print(Y.shape, Y.dtype)"
      ],
      "metadata": {
        "colab": {
          "base_uri": "https://localhost:8080/"
        },
        "id": "Bfpc8l8F6OGy",
        "outputId": "727bfd56-fbdf-4e8d-e6b0-c307e82a1a88"
      },
      "execution_count": null,
      "outputs": [
        {
          "output_type": "stream",
          "name": "stdout",
          "text": [
            "torch.Size([710, 6]) torch.float32\n",
            "torch.Size([710]) torch.int64\n"
          ]
        }
      ]
    },
    {
      "cell_type": "markdown",
      "source": [
        "## Training a model\n",
        "\n",
        "Define and train a logistic regression model for the Titanic data. First, define the inference function computing the probability estimates that input features belong to class 1:"
      ],
      "metadata": {
        "id": "xMKCVhbe7Q9b"
      }
    },
    {
      "cell_type": "code",
      "source": [
        "def logreg_inference(w, b, X):\n",
        "    z = X @ w + b\n",
        "    p = 1 / (1+torch.exp(-z)) #or easily p = torch.sigmoid(z)\n",
        "    return p"
      ],
      "metadata": {
        "id": "8U5tPs-u7hjP"
      },
      "execution_count": null,
      "outputs": []
    },
    {
      "cell_type": "markdown",
      "source": [
        "Then write the training loop. Remember the the main steps:\n",
        "1. outside the loop define the parameters of the model, and the optimizer (use `torch.optim.SGD`).\n",
        "2. inside the loop, compute the loss and use the optimizer to update the parameters."
      ],
      "metadata": {
        "id": "46K5bBBx7xL0"
      }
    },
    {
      "cell_type": "code",
      "source": [
        "#Defining the cross entropy\n",
        "def cross_entropy(Y, p):\n",
        "    p = p.clamp(0.001, 0.999) #restricting values of the function with clamp\n",
        "    return -(Y*torch.log(p) + (1-Y)*torch.log(1-p)).mean()\n"
      ],
      "metadata": {
        "id": "xd0TlwYCM0df"
      },
      "execution_count": null,
      "outputs": []
    },
    {
      "cell_type": "code",
      "source": [
        "STEPS = 50000\n",
        "LR = 0.002\n",
        "\n",
        "#Initializing the parameters\n",
        "w = torch.zeros(6, requires_grad = True)\n",
        "b = torch.zeros(1, requires_grad = True)\n",
        "\n",
        "#Introducing the SGD optimizer\n",
        "optimizer = torch.optim.SGD([w, b], lr = LR)\n",
        "\n",
        "#Defining lists for plotting accuracy / loss vs steps\n",
        "steps = []\n",
        "losses = []\n",
        "accuracies = []\n",
        "\n",
        "for step in range(STEPS):\n",
        "    optimizer.zero_grad()\n",
        "\n",
        "    #Compute the loss for the current values of w and b...\n",
        "    p = logreg_inference(w, b, X)\n",
        "    loss = cross_entropy(Y, p)\n",
        "    accuracy = ((p > 0.5).long() == Y).float().mean() #(p > 0.5) return a boolean tensor; then convert and compare to Y\n",
        "\n",
        "    #compute the gradients\n",
        "    loss.backward()\n",
        "\n",
        "    #Alternatively, using a built-in function\n",
        "    #loss_fun = torch.nn.BCELoss()\n",
        "    #loss = loss_fun(p, Y.float())\n",
        "\n",
        "    #Update the parameters\n",
        "    optimizer.step()\n",
        "\n",
        "    #Populating lists\n",
        "    steps.append(step)\n",
        "    losses.append(loss.item())\n",
        "    accuracies.append(accuracy.item())\n",
        "\n",
        "    #Diagnostic\n",
        "    if step % 1000 == 0:\n",
        "        print(step, loss.item(), accuracy.item())\n"
      ],
      "metadata": {
        "id": "VfB0Zesn7uVY",
        "colab": {
          "base_uri": "https://localhost:8080/"
        },
        "outputId": "770d1e67-8d4d-41dd-f765-e21f9fae269c"
      },
      "execution_count": null,
      "outputs": [
        {
          "output_type": "stream",
          "name": "stdout",
          "text": [
            "0 0.6931472420692444 0.6211267709732056\n",
            "1000 0.5796275734901428 0.6985915303230286\n",
            "2000 0.55601966381073 0.7183098793029785\n",
            "3000 0.5375592112541199 0.7295774817466736\n",
            "4000 0.522493839263916 0.7436619997024536\n",
            "5000 0.5100774765014648 0.7464788556098938\n",
            "6000 0.4997774660587311 0.7704225182533264\n",
            "7000 0.4911835193634033 0.7732394337654114\n",
            "8000 0.4839745759963989 0.780281662940979\n",
            "9000 0.4778969883918762 0.783098578453064\n",
            "10000 0.4727487862110138 0.800000011920929\n",
            "11000 0.46836796402931213 0.8126760721206665\n",
            "12000 0.4646238386631012 0.8084506988525391\n",
            "13000 0.4614102244377136 0.8084506988525391\n",
            "14000 0.4586406946182251 0.8070422410964966\n",
            "15000 0.45624399185180664 0.8070422410964966\n",
            "16000 0.45416170358657837 0.8042253255844116\n",
            "17000 0.45234546065330505 0.8042253255844116\n",
            "18000 0.45075511932373047 0.8028169274330139\n",
            "19000 0.44935715198516846 0.8014084696769714\n",
            "20000 0.44812342524528503 0.800000011920929\n",
            "21000 0.44703054428100586 0.7985915541648865\n",
            "22000 0.4460587203502655 0.800000011920929\n",
            "23000 0.44519102573394775 0.7985915541648865\n",
            "24000 0.4444134831428528 0.7985915541648865\n",
            "25000 0.443713903427124 0.7985915541648865\n",
            "26000 0.4430820941925049 0.7957746386528015\n",
            "27000 0.44250917434692383 0.7957746386528015\n",
            "28000 0.4419877231121063 0.7985915541648865\n",
            "29000 0.44151121377944946 0.7985915541648865\n",
            "30000 0.4410742223262787 0.7985915541648865\n",
            "31000 0.4406718611717224 0.7985915541648865\n",
            "32000 0.4403000473976135 0.800000011920929\n",
            "33000 0.4399552047252655 0.800000011920929\n",
            "34000 0.4396342933177948 0.8014084696769714\n",
            "35000 0.4393344521522522 0.8014084696769714\n",
            "36000 0.439053475856781 0.8014084696769714\n",
            "37000 0.4387893080711365 0.8014084696769714\n",
            "38000 0.4385400414466858 0.8014084696769714\n",
            "39000 0.4383043348789215 0.8014084696769714\n",
            "40000 0.43808072805404663 0.8014084696769714\n",
            "41000 0.43786802887916565 0.8014084696769714\n",
            "42000 0.4376651346683502 0.8014084696769714\n",
            "43000 0.43747106194496155 0.8014084696769714\n",
            "44000 0.43728527426719666 0.8014084696769714\n",
            "45000 0.43710678815841675 0.8014084696769714\n",
            "46000 0.43693503737449646 0.8014084696769714\n",
            "47000 0.4367694556713104 0.8014084696769714\n",
            "48000 0.43660956621170044 0.8014084696769714\n",
            "49000 0.43645501136779785 0.8014084696769714\n"
          ]
        }
      ]
    },
    {
      "cell_type": "markdown",
      "source": [
        "Modify the code above to make a list with loss values and training steps\n",
        "then execute the next cell to plot it."
      ],
      "metadata": {
        "id": "V0APf4rx99Im"
      }
    },
    {
      "cell_type": "code",
      "source": [
        "#Plotting\n",
        "\n",
        "plt.figure()\n",
        "plt.plot(steps, losses, label = \"loss\", c = \"red\")\n",
        "plt.xlabel(\"steps\")\n",
        "plt.ylabel(\"loss\")\n",
        "plt.legend()\n",
        "plt.title(\"Loss vs steps\")\n",
        "plt.grid(True)\n",
        "\n",
        "plt.figure()\n",
        "plt.plot(steps, accuracies, label = 'accuracy', c ='blue')\n",
        "plt.legend()\n",
        "plt.xlabel(\"steps\")\n",
        "plt.ylabel(\"accuracy\")\n",
        "plt.title(\"Accuracy vs steps\")\n",
        "plt.grid(True)"
      ],
      "metadata": {
        "id": "HBxbs4pQ9yn8",
        "colab": {
          "base_uri": "https://localhost:8080/",
          "height": 927
        },
        "outputId": "3f05b7ac-75b4-44c8-dce1-3fab2c6c528d"
      },
      "execution_count": null,
      "outputs": [
        {
          "output_type": "display_data",
          "data": {
            "text/plain": [
              "<Figure size 640x480 with 1 Axes>"
            ],
            "image/png": "[encoded data removed]"
          },
          "metadata": {}
        },
        {
          "output_type": "display_data",
          "data": {
            "text/plain": [
              "<Figure size 640x480 with 1 Axes>"
            ],
            "image/png": "[encoded data removed]"
          },
          "metadata": {}
        }
      ]
    },
    {
      "cell_type": "markdown",
      "source": [
        "Experiment with the code and use the plots to answer the following questions:\n",
        "1. Which is a good value for the learning rate?\n",
        "2. How many iterations are required to converge?"
      ],
      "metadata": {
        "id": "D6bvNg1I85Hg"
      }
    },
    {
      "cell_type": "markdown",
      "source": [
        "## Analyze the model\n",
        "\n",
        "Modify the script so that you can answer to the questions.\n",
        "\n",
        "Q1: What would be your probability to survive?  (Make a guess about the ticket class, the fare etc.)"
      ],
      "metadata": {
        "id": "fW2oc5_L_bWT"
      }
    },
    {
      "cell_type": "code",
      "source": [
        "x_0 = torch.tensor([3, 0, 23, 0, 0, 50.])\n",
        "y_pred = logreg_inference(w, b, x_0)\n",
        "print(y_pred)"
      ],
      "metadata": {
        "id": "XZXWEUvS-4A2",
        "colab": {
          "base_uri": "https://localhost:8080/"
        },
        "outputId": "cff6526f-9fcd-456e-dad9-baf81796359b"
      },
      "execution_count": null,
      "outputs": [
        {
          "output_type": "stream",
          "name": "stdout",
          "text": [
            "tensor([0.1425], grad_fn=<MulBackward0>)\n"
          ]
        }
      ]
    },
    {
      "cell_type": "markdown",
      "source": [
        "Q2: What is the *training accuracy* of the trained model?"
      ],
      "metadata": {
        "id": "zvwWt3V7AnsI"
      }
    },
    {
      "cell_type": "code",
      "source": [
        "#Calculating the accuracy\n",
        "accuracy = ((p > 0.5).long() == Y).float().mean()\n",
        "print(accuracy)"
      ],
      "metadata": {
        "id": "WX0UX5e7CvDS",
        "colab": {
          "base_uri": "https://localhost:8080/"
        },
        "outputId": "5edf199d-b32d-4105-ea59-f9cbfb5e4861"
      },
      "execution_count": null,
      "outputs": [
        {
          "output_type": "stream",
          "name": "stdout",
          "text": [
            "tensor(0.8014)\n"
          ]
        }
      ]
    },
    {
      "cell_type": "markdown",
      "source": [
        "Q3: Looking at the learned weights, how the individual features\n",
        "  influence the probability of surviving?"
      ],
      "metadata": {
        "id": "REtXVhrlCvja"
      }
    },
    {
      "cell_type": "code",
      "source": [
        "print(w)"
      ],
      "metadata": {
        "id": "WKXx3KJNCxmK",
        "colab": {
          "base_uri": "https://localhost:8080/"
        },
        "outputId": "176362eb-f610-4111-8b1c-eae6970badba"
      },
      "execution_count": null,
      "outputs": [
        {
          "output_type": "stream",
          "name": "stdout",
          "text": [
            "tensor([-0.7979,  2.6717, -0.0261, -0.2857, -0.0919,  0.0053],\n",
            "       requires_grad=True)\n"
          ]
        }
      ]
    },
    {
      "cell_type": "markdown",
      "source": [
        "Q4: What kind of passengers was most likely to survive?  And what\n",
        "  kind to to die?\n",
        "\n",
        "Women in first class"
      ],
      "metadata": {
        "id": "ho3bj5kXCyyC"
      }
    },
    {
      "cell_type": "code",
      "source": [
        "p = logreg_inference(w, b, X)\n",
        "print(X[p.argmin(0), :])\n",
        "print(X[p.argmax(0), :])"
      ],
      "metadata": {
        "id": "_BGBL3RFC5P1",
        "colab": {
          "base_uri": "https://localhost:8080/"
        },
        "outputId": "474c9d19-f2be-41a5-d799-26ebbd6f6075"
      },
      "execution_count": null,
      "outputs": [
        {
          "output_type": "stream",
          "name": "stdout",
          "text": [
            "tensor([ 3.0000,  0.0000, 20.0000,  8.0000,  2.0000, 69.5500])\n",
            "tensor([  1.0000,   1.0000,  35.0000,   0.0000,   0.0000, 512.3292])\n"
          ]
        }
      ]
    },
    {
      "cell_type": "markdown",
      "source": [
        "Q5: Draw a scatter plot showing the distribution of the two classes\n",
        "  in the plane defined by the two most influential features.  Comment\n",
        "  the plot."
      ],
      "metadata": {
        "id": "IDpVvB0IC4Py"
      }
    },
    {
      "cell_type": "code",
      "source": [
        "#Isolating the features\n",
        "gender = data[:, 1]\n",
        "ticket = data[:, 0]\n",
        "\n",
        "#Let's add some noise\n",
        "noisy_ticket = ticket + torch.randn_like(ticket) * 0.1\n",
        "noisy_gender = gender + torch.randn_like(gender) * 0.1\n",
        "\n",
        "#Plotting\n",
        "plt.figure()\n",
        "scatter = plt.scatter(noisy_ticket, noisy_gender, c = Y, cmap = 'rainbow', alpha = 0.6)\n",
        "plt.xlabel(\"Ticket\")\n",
        "plt.ylabel(\"Gender\")\n",
        "plt.yticks([0, 1])  # Set the tick locations\n",
        "plt.gca().set_yticklabels(['Male', 'Female'])  # Set the tick labels\n",
        "plt.xticks([1, 2, 3])  # Set the tick locations\n",
        "plt.gca().set_xticklabels(['Class 1', 'Class 2', 'Class 3'])  # Set the tick labels\n",
        "labels = ['Dead', 'Survive']  #Define labels for the legend\n",
        "plt.legend(handles=scatter.legend_elements()[0], labels=labels)\n",
        "plt.show()"
      ],
      "metadata": {
        "id": "eeNiB-b8C6Gt",
        "colab": {
          "base_uri": "https://localhost:8080/",
          "height": 449
        },
        "outputId": "aac59b8d-d8a7-42dc-b674-a6f8bf50db75"
      },
      "execution_count": null,
      "outputs": [
        {
          "output_type": "display_data",
          "data": {
            "text/plain": [
              "<Figure size 640x480 with 1 Axes>"
            ],
            "image/png": "[encoded data removed]"
          },
          "metadata": {}
        }
      ]
    },
    {
      "cell_type": "markdown",
      "source": [
        "## Evaluate the script\n",
        "\n",
        "Load the test set in the `Xtest` and `Ytest` tensors. Then, answer the questions."
      ],
      "metadata": {
        "id": "Ou_8-ilFEQo8"
      }
    },
    {
      "cell_type": "code",
      "source": [
        "#Loading test dataset\n",
        "g = open(\"titanic-test.txt\")\n",
        "test_data = [float(x) for x in g.read().split()]\n",
        "g.close()\n",
        "\n",
        "test_data = torch.tensor(test_data).view(-1, 7)\n",
        "Xtest = test_data[:, :6]\n",
        "Ytest = test_data[:, 6].long()\n",
        "\n",
        "#6 features, 1 output\n",
        "print(Xtest.shape, Xtest.dtype)\n",
        "print(Ytest.shape, Ytest.dtype)"
      ],
      "metadata": {
        "id": "XCCRLSJgEbiY",
        "colab": {
          "base_uri": "https://localhost:8080/"
        },
        "outputId": "973d37d3-feb9-46b4-b20b-86869f39cbca"
      },
      "execution_count": null,
      "outputs": [
        {
          "output_type": "stream",
          "name": "stdout",
          "text": [
            "torch.Size([177, 6]) torch.float32\n",
            "torch.Size([177]) torch.int64\n"
          ]
        }
      ]
    },
    {
      "cell_type": "markdown",
      "source": [
        "Q6: what is the *test accuracy* of the model?"
      ],
      "metadata": {
        "id": "-ifmB9xQEd2A"
      }
    },
    {
      "cell_type": "code",
      "source": [
        "p = logreg_inference(w, b, Xtest)\n",
        "test_accuracy = ((p > 0.5).long() == Ytest).float().mean()\n",
        "print(test_accuracy)"
      ],
      "metadata": {
        "id": "ik2H0i0PEmpc",
        "colab": {
          "base_uri": "https://localhost:8080/"
        },
        "outputId": "a93d2136-c0c5-4f61-f3b4-e46496b7510f"
      },
      "execution_count": null,
      "outputs": [
        {
          "output_type": "stream",
          "name": "stdout",
          "text": [
            "tensor(0.7910)\n"
          ]
        }
      ]
    },
    {
      "cell_type": "markdown",
      "source": [
        "Q7: Is the model overfitting or underfitting the training set?"
      ],
      "metadata": {
        "id": "cEhn_GgOEnFg"
      }
    },
    {
      "cell_type": "markdown",
      "source": [
        "Q8: How can you increase the performance of the model?\n",
        "\n",
        "As a first intuitive approach, let's try to simply reduce the number of features, ignoring the ones that have low weights."
      ],
      "metadata": {
        "id": "x8UGrfPXEpy-"
      }
    },
    {
      "cell_type": "code",
      "source": [
        "print(w)"
      ],
      "metadata": {
        "colab": {
          "base_uri": "https://localhost:8080/"
        },
        "id": "eUdHIRsIjPh8",
        "outputId": "16878c4b-1aa5-4f3b-993c-5495d8ffefe0"
      },
      "execution_count": null,
      "outputs": [
        {
          "output_type": "stream",
          "name": "stdout",
          "text": [
            "tensor([-0.7979,  2.6717, -0.0261, -0.2857, -0.0919,  0.0053],\n",
            "       requires_grad=True)\n"
          ]
        }
      ]
    },
    {
      "cell_type": "code",
      "source": [
        "#Reducing the number of features\n",
        "X = data[:, :4]\n",
        "\n",
        "#Training with the \"new\" list of features\n",
        "STEPS = 50000\n",
        "LR = 0.002\n",
        "\n",
        "#Initializing the parameters\n",
        "w = torch.zeros(4, requires_grad = True)\n",
        "b = torch.zeros(1, requires_grad = True)\n",
        "\n",
        "#Introducing the SGD optimizer\n",
        "optimizer = torch.optim.SGD([w, b], lr = LR)\n",
        "\n",
        "#Defining lists for plotting accuracy / loss vs steps\n",
        "steps = []\n",
        "losses = []\n",
        "accuracies = []\n",
        "\n",
        "for step in range(STEPS):\n",
        "    optimizer.zero_grad()\n",
        "\n",
        "    #Compute the loss for the current values of w and b...\n",
        "    p = logreg_inference(w, b, X)\n",
        "    loss = cross_entropy(Y, p)\n",
        "    accuracy = ((p > 0.5).long() == Y).float().mean() #(p > 0.5) return a boolean tensor; then convert and compare to Y\n",
        "\n",
        "    #compute the gradients\n",
        "    loss.backward()\n",
        "\n",
        "    #Alternatively, using a built-in function\n",
        "    #loss_fun = torch.nn.BCELoss()\n",
        "    #loss = loss_fun(p, Y.float())\n",
        "\n",
        "    #Update the parameters\n",
        "    optimizer.step()\n",
        "\n",
        "    #Populating lists\n",
        "    steps.append(step)\n",
        "    losses.append(loss.item())\n",
        "    accuracies.append(accuracy.item())\n",
        "\n",
        "    #Diagnostic\n",
        "    if step % 1000 == 0:\n",
        "        print(step, loss.item(), accuracy.item())"
      ],
      "metadata": {
        "colab": {
          "base_uri": "https://localhost:8080/"
        },
        "id": "Tm0wHQaAtMxx",
        "outputId": "21f252da-7f18-47d6-8318-1994cbef280a"
      },
      "execution_count": null,
      "outputs": [
        {
          "output_type": "stream",
          "name": "stdout",
          "text": [
            "0 0.6931472420692444 0.6211267709732056\n",
            "1000 0.6054877042770386 0.6197183132171631\n",
            "2000 0.5742030143737793 0.705633819103241\n",
            "3000 0.5504968166351318 0.7323943376541138\n",
            "4000 0.5317301750183105 0.7732394337654114\n",
            "5000 0.5166811943054199 0.7929577231407166\n",
            "6000 0.504511296749115 0.794366180896759\n",
            "7000 0.49459633231163025 0.800000011920929\n",
            "8000 0.48646047711372375 0.800000011920929\n",
            "9000 0.4797380864620209 0.8225352168083191\n",
            "10000 0.4741459786891937 0.814084529876709\n",
            "11000 0.46946343779563904 0.814084529876709\n",
            "12000 0.46551719307899475 0.8070422410964966\n",
            "13000 0.46217080950737 0.8014084696769714\n",
            "14000 0.45931577682495117 0.800000011920929\n",
            "15000 0.45686545968055725 0.800000011920929\n",
            "16000 0.4547503888607025 0.7985915541648865\n",
            "17000 0.45291420817375183 0.7985915541648865\n",
            "18000 0.4513113498687744 0.7985915541648865\n",
            "19000 0.44990450143814087 0.800000011920929\n",
            "20000 0.44866302609443665 0.8014084696769714\n",
            "21000 0.44756177067756653 0.8014084696769714\n",
            "22000 0.4465797245502472 0.8014084696769714\n",
            "23000 0.4456996023654938 0.8014084696769714\n",
            "24000 0.44490692019462585 0.8014084696769714\n",
            "25000 0.4441894590854645 0.8014084696769714\n",
            "26000 0.44353702664375305 0.8014084696769714\n",
            "27000 0.442940890789032 0.8014084696769714\n",
            "28000 0.4423938989639282 0.8014084696769714\n",
            "29000 0.4418898820877075 0.8028169274330139\n",
            "30000 0.44142335653305054 0.8028169274330139\n",
            "31000 0.4409899115562439 0.8028169274330139\n",
            "32000 0.4405856728553772 0.8028169274330139\n",
            "33000 0.44020724296569824 0.8028169274330139\n",
            "34000 0.4398520886898041 0.8028169274330139\n",
            "35000 0.4395172595977783 0.8028169274330139\n",
            "36000 0.4392009973526001 0.8028169274330139\n",
            "37000 0.43890121579170227 0.8028169274330139\n",
            "38000 0.43861648440361023 0.8028169274330139\n",
            "39000 0.438345342874527 0.8028169274330139\n",
            "40000 0.43808650970458984 0.8042253255844116\n",
            "41000 0.43783891201019287 0.8042253255844116\n",
            "42000 0.4376016855239868 0.8056337833404541\n",
            "43000 0.43737393617630005 0.8042253255844116\n",
            "44000 0.4371548891067505 0.8042253255844116\n",
            "45000 0.43694397807121277 0.8042253255844116\n",
            "46000 0.43674057722091675 0.8042253255844116\n",
            "47000 0.4365443289279938 0.8028169274330139\n",
            "48000 0.43635451793670654 0.8028169274330139\n",
            "49000 0.43617093563079834 0.8028169274330139\n"
          ]
        }
      ]
    },
    {
      "cell_type": "code",
      "source": [
        "#Test accuracy\n",
        "Xtest = test_data[:, :4]\n",
        "Ytest = test_data[:, 6].long()\n",
        "\n",
        "p = logreg_inference(w, b, Xtest)\n",
        "test_accuracy = ((p > 0.5).long() == Ytest).float().mean()\n",
        "print(test_accuracy)"
      ],
      "metadata": {
        "colab": {
          "base_uri": "https://localhost:8080/"
        },
        "id": "z2YOmeLUtjH2",
        "outputId": "87431616-b1bb-4a58-f836-adc2e1bc4ac2"
      },
      "execution_count": null,
      "outputs": [
        {
          "output_type": "stream",
          "name": "stdout",
          "text": [
            "tensor(0.7740)\n"
          ]
        }
      ]
    },
    {
      "cell_type": "markdown",
      "source": [
        "Lower! This approach doesn't improve the original result"
      ],
      "metadata": {
        "id": "HhwA5fVxkefX"
      }
    },
    {
      "cell_type": "markdown",
      "source": [
        "##Regularization\n",
        "\n",
        "Next approach could be L2 regularization"
      ],
      "metadata": {
        "id": "IockEPTnklhk"
      }
    },
    {
      "cell_type": "code",
      "source": [
        "# Cross entropy with L2 regularization\n",
        "def cross_entropy(Y, p, w, lambda_l2=0.01):\n",
        "    p = p.clamp(0.001, 0.999)\n",
        "    ce_loss = -(Y * torch.log(p) + (1 - Y) * torch.log(1 - p)).mean()\n",
        "    l2_penalty = lambda_l2 * (w ** 2).sum()\n",
        "    return ce_loss + l2_penalty"
      ],
      "metadata": {
        "id": "mzKvepNBovGU"
      },
      "execution_count": null,
      "outputs": []
    },
    {
      "cell_type": "code",
      "source": [
        "X = data[:, :6]\n",
        "Y = data[:, 6].long()"
      ],
      "metadata": {
        "id": "DmQgFxXbqnTw"
      },
      "execution_count": null,
      "outputs": []
    },
    {
      "cell_type": "code",
      "source": [
        "STEPS = 50000\n",
        "LR = 0.002\n",
        "\n",
        "#Initializing the parameters\n",
        "w = torch.zeros(6, requires_grad = True)\n",
        "b = torch.zeros(1, requires_grad = True)\n",
        "\n",
        "#Introducing the SGD optimizer\n",
        "optimizer = torch.optim.SGD([w, b], lr = LR)\n",
        "\n",
        "#Defining lists for plotting accuracy / loss vs steps\n",
        "steps = []\n",
        "losses = []\n",
        "accuracies = []\n",
        "\n",
        "for step in range(STEPS):\n",
        "    optimizer.zero_grad()\n",
        "\n",
        "    #Compute the loss with L2 regularization for the current values of w and b...\n",
        "    p = logreg_inference(w, b, X)\n",
        "    loss = cross_entropy(Y, p, w, lambda_l2= 0.01)\n",
        "    accuracy = ((p > 0.5).long() == Y).float().mean() #(p > 0.5) return a boolean tensor; then convert and compare to Y\n",
        "\n",
        "    #compute the gradients\n",
        "    loss.backward()\n",
        "\n",
        "    #Alternatively, using a built-in function\n",
        "    #loss_fun = torch.nn.BCELoss()\n",
        "    #loss = loss_fun(p, Y.float())\n",
        "\n",
        "    #Update the parameters\n",
        "    optimizer.step()\n",
        "\n",
        "    #Populating lists\n",
        "    steps.append(step)\n",
        "    losses.append(loss.item())\n",
        "    accuracies.append(accuracy.item())\n",
        "\n",
        "    #Diagnostic\n",
        "    if step % 1000 == 0:\n",
        "        print(step, loss.item(), accuracy.item())"
      ],
      "metadata": {
        "colab": {
          "base_uri": "https://localhost:8080/"
        },
        "id": "3L0T8qgGq0T-",
        "outputId": "ac044e2a-fe28-4fdc-84ad-b9209d0ced6a"
      },
      "execution_count": null,
      "outputs": [
        {
          "output_type": "stream",
          "name": "stdout",
          "text": [
            "0 0.6931472420692444 0.6211267709732056\n",
            "1000 0.5810429453849792 0.6971830725669861\n",
            "2000 0.5600671172142029 0.7183098793029785\n",
            "3000 0.5449231863021851 0.7281690239906311\n",
            "4000 0.5334996581077576 0.7380281686782837\n",
            "5000 0.5247931480407715 0.7464788556098938\n",
            "6000 0.5181111693382263 0.7563380002975464\n",
            "7000 0.5129503011703491 0.7704225182533264\n",
            "8000 0.508939802646637 0.7732394337654114\n",
            "9000 0.5058043599128723 0.780281662940979\n",
            "10000 0.5033378005027771 0.780281662940979\n",
            "11000 0.5013846755027771 0.7859154939651489\n",
            "12000 0.49982720613479614 0.7816901206970215\n",
            "13000 0.4985760748386383 0.7985915541648865\n",
            "14000 0.49756261706352234 0.8014084696769714\n",
            "15000 0.49673423171043396 0.8014084696769714\n",
            "16000 0.49605050683021545 0.8070422410964966\n",
            "17000 0.49548009037971497 0.8098591566085815\n",
            "18000 0.494998961687088 0.8098591566085815\n",
            "19000 0.49458810687065125 0.8056337833404541\n",
            "20000 0.49423301219940186 0.8084506988525391\n",
            "21000 0.49392232298851013 0.8098591566085815\n",
            "22000 0.4936472177505493 0.8098591566085815\n",
            "23000 0.4934006333351135 0.8098591566085815\n",
            "24000 0.4931770861148834 0.8084506988525391\n",
            "25000 0.4929724633693695 0.8070422410964966\n",
            "26000 0.49278321862220764 0.8070422410964966\n",
            "27000 0.4926068186759949 0.8070422410964966\n",
            "28000 0.49244120717048645 0.8070422410964966\n",
            "29000 0.4922846555709839 0.8056337833404541\n",
            "30000 0.49213582277297974 0.8056337833404541\n",
            "31000 0.49199366569519043 0.8056337833404541\n",
            "32000 0.4918573796749115 0.8056337833404541\n",
            "33000 0.49172624945640564 0.8056337833404541\n",
            "34000 0.49159979820251465 0.8042253255844116\n",
            "35000 0.4914775788784027 0.8042253255844116\n",
            "36000 0.4913591742515564 0.8042253255844116\n",
            "37000 0.491244375705719 0.8042253255844116\n",
            "38000 0.49113282561302185 0.8056337833404541\n",
            "39000 0.491024374961853 0.8056337833404541\n",
            "40000 0.49091893434524536 0.8056337833404541\n",
            "41000 0.49081623554229736 0.8070422410964966\n",
            "42000 0.49071618914604187 0.8070422410964966\n",
            "43000 0.49061864614486694 0.8070422410964966\n",
            "44000 0.49052366614341736 0.8070422410964966\n",
            "45000 0.49043089151382446 0.8070422410964966\n",
            "46000 0.4903404712677002 0.8098591566085815\n",
            "47000 0.490252286195755 0.811267614364624\n",
            "48000 0.49016621708869934 0.811267614364624\n",
            "49000 0.4900822341442108 0.811267614364624\n"
          ]
        }
      ]
    },
    {
      "cell_type": "code",
      "source": [
        "print(w)"
      ],
      "metadata": {
        "colab": {
          "base_uri": "https://localhost:8080/"
        },
        "id": "Y1llpRcQsPkM",
        "outputId": "34994fc7-7d40-4df3-e19c-a9f9abf883ef"
      },
      "execution_count": null,
      "outputs": [
        {
          "output_type": "stream",
          "name": "stdout",
          "text": [
            "tensor([-0.6125,  1.7378, -0.0260, -0.2299, -0.0129,  0.0064],\n",
            "       requires_grad=True)\n"
          ]
        }
      ]
    },
    {
      "cell_type": "code",
      "source": [
        "#Test accuracy\n",
        "Xtest = test_data[:, :6]\n",
        "Ytest = test_data[:, 6].long()\n",
        "\n",
        "\n",
        "p = logreg_inference(w, b, Xtest)\n",
        "test_accuracy = ((p > 0.5).long() == Ytest).float().mean()\n",
        "print(test_accuracy)"
      ],
      "metadata": {
        "colab": {
          "base_uri": "https://localhost:8080/"
        },
        "id": "-uHpc3yOtJ86",
        "outputId": "1cccc484-2090-4e60-f056-1b4bc155277b"
      },
      "execution_count": null,
      "outputs": [
        {
          "output_type": "stream",
          "name": "stdout",
          "text": [
            "tensor(0.7910)\n"
          ]
        }
      ]
    },
    {
      "cell_type": "markdown",
      "source": [
        "## Homework assignement\n",
        "\n",
        "Prepare a report of one or two pages with the answers to the questions\n",
        "(include a short comment for each question).  The report must be in\n",
        "the PDF format.  Include your name in the report and conclude the\n",
        "document with the following statement: ``I affirm that this report is\n",
        "the result of my own work and that I did not share any part of it with\n",
        "anyone else except the teacher.''\n",
        "\n",
        "Make a ZIP archive with the report and the PDF of the notebook you used (with all the outputs) and and upload it on the course website.\n"
      ],
      "metadata": {
        "id": "NL9IRrolEuiz"
      }
    }
  ]
}